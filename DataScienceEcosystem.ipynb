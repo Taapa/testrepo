{
 "cells": [
  {
   "cell_type": "markdown",
   "id": "5cb2f227-7f86-4cbb-9692-b529d258bb3f",
   "metadata": {},
   "source": [
    "<center>\n",
    "    <img src=\"https://cf-courses-data.s3.us.cloud-object-storage.appdomain.cloud/IBMDeveloperSkillsNetwork-DS0105EN-SkillsNetwork/labs/Module2/images/SN_web_lightmode.png\" width=\"300\" alt=\"cognitiveclass.ai logo\">\n",
    "</center>\n"
   ]
  },
  {
   "cell_type": "markdown",
   "id": "10e85b84-3d27-4685-a790-98b539c5bcd3",
   "metadata": {
    "tags": []
   },
   "source": [
    "## Add your code below following the instructions given in the course"
   ]
  },
  {
   "cell_type": "markdown",
   "id": "37673967-e0d8-4507-9e70-5a4436a39f35",
   "metadata": {},
   "source": [
    "# Exercise 1: Create a Jupyter Notebook"
   ]
  },
  {
   "cell_type": "code",
   "execution_count": null,
   "id": "866a4d51-f7f1-4c80-8b18-4797fb3f5488",
   "metadata": {},
   "outputs": [],
   "source": []
  },
  {
   "cell_type": "markdown",
   "id": "aee5c36f-1f92-466a-a8ae-a191be571914",
   "metadata": {},
   "source": [
    "# Exercise 2: Create markdown cell with title of the notebook"
   ]
  },
  {
   "cell_type": "markdown",
   "id": "709997ae-84ca-4d48-81bf-f2d8c5118c33",
   "metadata": {},
   "source": [
    "# Data Science Tools and Ecosystem"
   ]
  },
  {
   "cell_type": "markdown",
   "id": "ef527058-6d00-49da-b702-09cb63069df1",
   "metadata": {},
   "source": [
    "# Exercise 3 - Create a markdown cell for an introduction"
   ]
  },
  {
   "cell_type": "markdown",
   "id": "c12adb39-de16-4a68-b6f3-098d73a0406a",
   "metadata": {},
   "source": [
    "In this notebook, Data Science Tools and Ecosystem are summarized."
   ]
  },
  {
   "cell_type": "markdown",
   "id": "ee7f4b1b-7c7c-49dd-9dde-fd1da5f7ec87",
   "metadata": {
    "tags": []
   },
   "source": [
    "# Exercise 4 - Create a markdown cell to list data science languages"
   ]
  },
  {
   "cell_type": "markdown",
   "id": "9fac1b3e-504a-481b-9655-88b924db7fcd",
   "metadata": {},
   "source": [
    "Some of the popular languages that Data Scientists use are:"
   ]
  },
  {
   "cell_type": "markdown",
   "id": "2cf42eb9-09ea-455f-80af-1d4e21a4eec4",
   "metadata": {},
   "source": [
    "1. Scala\n",
    "2. Java\n",
    "3. C++\n",
    "4. Julia"
   ]
  },
  {
   "cell_type": "markdown",
   "id": "34cfc8b3-80d7-44de-a581-3e1828e706bd",
   "metadata": {},
   "source": [
    "# Exercise 5 - Create a markdown cell to list data science libraries"
   ]
  },
  {
   "cell_type": "markdown",
   "id": "9c300fdf-39ce-4c9d-8199-5e4012ade007",
   "metadata": {},
   "source": [
    "Some of the commonly used libraries used by Data Scientists include:"
   ]
  },
  {
   "cell_type": "markdown",
   "id": "1398f6c8-b169-4031-86ba-d90b2e1f090b",
   "metadata": {
    "tags": []
   },
   "source": [
    "1. Pandas\n",
    "2. Numpy\n",
    "3. Matplotlib\n",
    "4. Seaborn"
   ]
  },
  {
   "cell_type": "markdown",
   "id": "3925ab2f-94d5-4698-9ba4-1e4c97b671b2",
   "metadata": {},
   "source": [
    "# Exercise 6 - Create a markdown cell with a table of Data Science tools"
   ]
  },
  {
   "cell_type": "markdown",
   "id": "c51b6d32-40db-454c-9aef-6cabdac518b8",
   "metadata": {},
   "source": [
    "| Data Science Tools |\n",
    "| -------------|\n",
    "| RStudio |\n",
    "| Apache Spark |\n",
    "| Tensorflow |"
   ]
  },
  {
   "cell_type": "markdown",
   "id": "1f6bb1b1-97c2-4d09-9248-0598e1d4d70a",
   "metadata": {
    "tags": []
   },
   "source": [
    "# Exercise 7 - Create a markdown cell introducing arithmetic expression examples"
   ]
  },
  {
   "cell_type": "markdown",
   "id": "08548140-1a7b-4bfe-b9dd-ac253a44893e",
   "metadata": {},
   "source": [
    "### Below are a few examples of evaluating arithmetic expressions in Python"
   ]
  },
  {
   "cell_type": "markdown",
   "id": "05a511bb-9779-4d49-a311-1ca4ef318fdc",
   "metadata": {},
   "source": [
    "# Exercise 8 - Create a code cell to multiply and add numbers"
   ]
  },
  {
   "cell_type": "markdown",
   "id": "663c2eaa-5d46-44b5-a198-19b8c14c850f",
   "metadata": {},
   "source": [
    "This a simple arithmetic expression to mutiply then add integers"
   ]
  },
  {
   "cell_type": "code",
   "execution_count": 9,
   "id": "6abb63ab-d235-428b-aff6-99ff2d273cb1",
   "metadata": {
    "tags": []
   },
   "outputs": [
    {
     "data": {
      "text/plain": [
       "17"
      ]
     },
     "execution_count": 9,
     "metadata": {},
     "output_type": "execute_result"
    }
   ],
   "source": [
    "(3*4)+5"
   ]
  },
  {
   "cell_type": "markdown",
   "id": "c40ef391-208d-4487-92b7-e65b8e4a1f21",
   "metadata": {},
   "source": [
    "# Exercise 9 - Create a code cell to convert minutes to hours"
   ]
  },
  {
   "cell_type": "markdown",
   "id": "5e9e93af-1bd7-4059-86e2-0d2a4b4c817f",
   "metadata": {},
   "source": [
    "This will convert 200 minutes to hours by diving by 60"
   ]
  },
  {
   "cell_type": "code",
   "execution_count": 34,
   "id": "69958a66-e5f3-4e92-b7c8-c71541110c57",
   "metadata": {
    "tags": []
   },
   "outputs": [],
   "source": [
    "minutes = 200"
   ]
  },
  {
   "cell_type": "code",
   "execution_count": 35,
   "id": "175e831e-732d-424b-9264-0dcda86168f7",
   "metadata": {
    "tags": []
   },
   "outputs": [],
   "source": [
    "hours = minutes//60"
   ]
  },
  {
   "cell_type": "code",
   "execution_count": 36,
   "id": "d544e5ad-ae35-4cb6-9c1a-0c5900d312f2",
   "metadata": {
    "tags": []
   },
   "outputs": [
    {
     "name": "stdout",
     "output_type": "stream",
     "text": [
      "3\n"
     ]
    }
   ],
   "source": [
    "print (hours)"
   ]
  },
  {
   "cell_type": "code",
   "execution_count": 29,
   "id": "053440a6-e452-4574-94a0-1a397ee6b17a",
   "metadata": {
    "tags": []
   },
   "outputs": [
    {
     "data": {
      "text/plain": [
       "3"
      ]
     },
     "execution_count": 29,
     "metadata": {},
     "output_type": "execute_result"
    }
   ],
   "source": [
    "200//60"
   ]
  },
  {
   "cell_type": "code",
   "execution_count": 21,
   "id": "25604d04-26aa-4dff-aa8b-bc15cf487bfe",
   "metadata": {
    "tags": []
   },
   "outputs": [],
   "source": [
    "hours, minutes = divmod(200, 60)"
   ]
  },
  {
   "cell_type": "code",
   "execution_count": 23,
   "id": "99275a41-efe0-4a74-b15c-29ef8d950fde",
   "metadata": {
    "tags": []
   },
   "outputs": [
    {
     "name": "stdout",
     "output_type": "stream",
     "text": [
      "3 20\n"
     ]
    }
   ],
   "source": [
    "print (hours, minutes)"
   ]
  },
  {
   "cell_type": "code",
   "execution_count": 38,
   "id": "912738c6-90a4-427b-a01e-93a8cab86f20",
   "metadata": {
    "tags": []
   },
   "outputs": [
    {
     "data": {
      "text/plain": [
       "(3, 20)"
      ]
     },
     "execution_count": 38,
     "metadata": {},
     "output_type": "execute_result"
    }
   ],
   "source": [
    "divmod(200, 60)"
   ]
  },
  {
   "cell_type": "markdown",
   "id": "e137dfdb-dca3-4555-9a9f-3af04e2f11ff",
   "metadata": {},
   "source": [
    "# Exercise 10 - Insert a markdown cell to list Objectives"
   ]
  },
  {
   "cell_type": "markdown",
   "id": "ebfa966b-0167-4cd4-b42b-5a64b24fcbd4",
   "metadata": {},
   "source": [
    "In this notebook, Data Science Tools and Ecosystem are summarized."
   ]
  },
  {
   "cell_type": "markdown",
   "id": "ef5e1f68-a33a-4a8f-82e4-c7acf175a4eb",
   "metadata": {
    "tags": []
   },
   "source": [
    "**Objectives:**"
   ]
  },
  {
   "cell_type": "markdown",
   "id": "9c12b297-1076-47f2-9d55-e8ea24359070",
   "metadata": {},
   "source": [
    "List popular languages for Data Science"
   ]
  },
  {
   "cell_type": "markdown",
   "id": "1817228a-4903-488d-b3de-b035a5748e07",
   "metadata": {},
   "source": [
    "* Scala\n",
    "* Java\n",
    "* C++"
   ]
  },
  {
   "cell_type": "markdown",
   "id": "fb441342-5e8e-488c-ac69-45efe01af291",
   "metadata": {
    "tags": []
   },
   "source": [
    "# Exercise 11 - Create a markdown cell to indicate the Author's name"
   ]
  },
  {
   "cell_type": "markdown",
   "id": "1f886a64-db9a-4cf7-88ac-95a3b61087df",
   "metadata": {
    "tags": []
   },
   "source": [
    "## Author "
   ]
  },
  {
   "cell_type": "markdown",
   "id": "d916880b-ab89-4962-b0fc-cccecbf39fb8",
   "metadata": {},
   "source": [
    "Moustapha Gueye"
   ]
  },
  {
   "cell_type": "code",
   "execution_count": null,
   "id": "98e1a4e0-c7bf-49ef-84f8-4d0038104c47",
   "metadata": {},
   "outputs": [],
   "source": []
  }
 ],
 "metadata": {
  "kernelspec": {
   "display_name": "Python",
   "language": "python",
   "name": "conda-env-python-py"
  },
  "language_info": {
   "codemirror_mode": {
    "name": "ipython",
    "version": 3
   },
   "file_extension": ".py",
   "mimetype": "text/x-python",
   "name": "python",
   "nbconvert_exporter": "python",
   "pygments_lexer": "ipython3",
   "version": "3.7.12"
  }
 },
 "nbformat": 4,
 "nbformat_minor": 5
}
